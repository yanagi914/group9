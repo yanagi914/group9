{
 "cells": [
  {
   "cell_type": "code",
   "execution_count": null,
   "id": "7f9a4c02",
   "metadata": {},
   "outputs": [],
   "source": [
    "from selenium import webdriver\n",
    "from time import sleep\n",
    "from selenium.webdriver.chrome.options import Options\n",
    "\n",
    "options = Options()\n",
    "options.add_argument('--headless')\n",
    "\n",
    "browser = webdriver.Chrome(options=options)\n",
    "url = 'https://u.muroran-it.ac.jp/kyomu/syllabustop2021/F6_.html'\n",
    "browser.get(url)"
   ]
  },
  {
   "cell_type": "code",
   "execution_count": null,
   "id": "798fc9b1",
   "metadata": {},
   "outputs": [],
   "source": [
    "types = []\n",
    "path_front = '/html/body/table[2]/tbody/tr['\n",
    "count = 1\n",
    "path_end = ']/td[5]/a'\n",
    "\n",
    "for i in range(223):\n",
    "    path = path_front + str(count) + path_end\n",
    "    browser.find_element_by_xpath(path).click()\n",
    "    type = browser.find_element_by_xpath('//*[@id=\"tabs-1\"]/table/tbody/tr[7]/td').text\n",
    "    types.append(type)\n",
    "    browser.back()\n",
    "    count += 1\n",
    "    sleep(0.5)\n",
    "\n",
    "types"
   ]
  },
  {
   "cell_type": "code",
   "execution_count": null,
   "id": "8be6bc5f",
   "metadata": {},
   "outputs": [],
   "source": [
    "units = []\n",
    "path_front = '/html/body/table[2]/tbody/tr['\n",
    "count = 1\n",
    "path_end = ']/td[5]/a'\n",
    "\n",
    "for i in range(223):\n",
    "    path = path_front + str(count) + path_end\n",
    "    browser.find_element_by_xpath(path).click()\n",
    "    unit = browser.find_element_by_xpath('//*[@id=\"tabs-1\"]/table/tbody/tr[10]/td').text\n",
    "    units.append(unit)\n",
    "    browser.back()\n",
    "    count += 1\n",
    "    sleep(0.5)\n",
    "\n",
    "units"
   ]
  },
  {
   "cell_type": "code",
   "execution_count": null,
   "id": "d885b7cf",
   "metadata": {},
   "outputs": [],
   "source": [
    "units2 = []\n",
    "for item in units:\n",
    "    \n",
    "    #文字列の置換\n",
    "    item_mod = item.replace(\" \", \"\")\n",
    "    \n",
    "    #リストに追加\n",
    "    units2.append(item_mod)\n",
    "    \n",
    "units2"
   ]
  },
  {
   "cell_type": "code",
   "execution_count": null,
   "id": "1772b1ab",
   "metadata": {},
   "outputs": [],
   "source": [
    "codes = []\n",
    "code_front = '/html/body/table[2]/tbody/tr['\n",
    "count = 1\n",
    "code_end = ']/td[6]'\n",
    "\n",
    "for elem_td in range(223):\n",
    "    path = code_front + str(count) + code_end\n",
    "    code = browser.find_element_by_xpath(path).text\n",
    "    codes.append(code)\n",
    "    count += 1\n",
    "    sleep(0.5)\n",
    "    \n",
    "codes"
   ]
  },
  {
   "cell_type": "code",
   "execution_count": null,
   "id": "9b03300a",
   "metadata": {},
   "outputs": [],
   "source": [
    "import pandas as pd"
   ]
  },
  {
   "cell_type": "code",
   "execution_count": null,
   "id": "95a9f825",
   "metadata": {},
   "outputs": [],
   "source": [
    "df = pd.DataFrame()"
   ]
  },
  {
   "cell_type": "code",
   "execution_count": null,
   "id": "dc1b32c8",
   "metadata": {},
   "outputs": [],
   "source": [
    "df['必修・選択'] = types\n",
    "df['単位数'] = units2\n",
    "df['時間割コード'] = codes\n",
    "\n",
    "df"
   ]
  },
  {
   "cell_type": "code",
   "execution_count": null,
   "id": "1d957826",
   "metadata": {},
   "outputs": [],
   "source": [
    "df.to_csv('一般教養科目.csv',index=False)"
   ]
  },
  {
   "cell_type": "code",
   "execution_count": null,
   "id": "b6e2f2d6",
   "metadata": {},
   "outputs": [],
   "source": [
    "browser.close()"
   ]
  }
 ],
 "metadata": {
  "kernelspec": {
   "display_name": "Python 3 (ipykernel)",
   "language": "python",
   "name": "python3"
  },
  "language_info": {
   "codemirror_mode": {
    "name": "ipython",
    "version": 3
   },
   "file_extension": ".py",
   "mimetype": "text/x-python",
   "name": "python",
   "nbconvert_exporter": "python",
   "pygments_lexer": "ipython3",
   "version": "3.8.12"
  }
 },
 "nbformat": 4,
 "nbformat_minor": 5
}
