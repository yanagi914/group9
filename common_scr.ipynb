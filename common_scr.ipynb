{
 "cells": [
  {
   "cell_type": "code",
   "execution_count": null,
   "id": "1104c4f9",
   "metadata": {},
   "outputs": [],
   "source": [
    "from selenium import webdriver\n",
    "from time import sleep\n",
    "from selenium.webdriver.chrome.options import Options\n",
    "\n",
    "options = Options()\n",
    "options.add_argument('--headless')\n",
    "\n",
    "browser = webdriver.Chrome(options=options)\n",
    "url = 'https://u.muroran-it.ac.jp/kyomu/syllabustop2021/26_.html'\n",
    "browser.get(url)"
   ]
  },
  {
   "cell_type": "code",
   "execution_count": null,
   "id": "3242d763",
   "metadata": {},
   "outputs": [],
   "source": [
    "units = []\n",
    "path_front = '/html/body/table[2]/tbody/tr['\n",
    "count = 1\n",
    "path_end = ']/td[5]/a'\n",
    "\n",
    "for i in range(87):\n",
    "    path = path_front + str(count) + path_end\n",
    "    browser.find_element_by_xpath(path).click()\n",
    "    unit = browser.find_element_by_xpath('//*[@id=\"tabs-1\"]/table/tbody/tr[10]/td').text\n",
    "    units.append(unit)\n",
    "    browser.back()\n",
    "    count += 1\n",
    "    sleep(0.5)\n",
    "    \n",
    "units"
   ]
  },
  {
   "cell_type": "code",
   "execution_count": null,
   "id": "16f47ffe",
   "metadata": {},
   "outputs": [],
   "source": [
    "units2 = []\n",
    "for item in units:\n",
    "    \n",
    "    #文字列の置換\n",
    "    item_mod = item.replace(\" \", \"\")\n",
    "    \n",
    "    #リストに追加\n",
    "    units2.append(item_mod)\n",
    "    \n",
    "units2"
   ]
  },
  {
   "cell_type": "code",
   "execution_count": null,
   "id": "837a9163",
   "metadata": {},
   "outputs": [],
   "source": [
    "codes = []\n",
    "code_front = '/html/body/table[2]/tbody/tr['\n",
    "count = 1\n",
    "code_end = ']/td[6]'\n",
    "\n",
    "for i in range(87):\n",
    "    path = code_front + str(count) + code_end\n",
    "    code = browser.find_element_by_xpath(path).text\n",
    "    codes.append(code)\n",
    "    count += 1\n",
    "    sleep(0.5)\n",
    "    \n",
    "codes"
   ]
  },
  {
   "cell_type": "code",
   "execution_count": null,
   "id": "f8f57fed",
   "metadata": {},
   "outputs": [],
   "source": [
    "subs = []\n",
    "path_front = '/html/body/table[2]/tbody/tr['\n",
    "count = 1\n",
    "path_end = ']/td[5]/a'\n",
    "\n",
    "for i in range(87):\n",
    "    path = path_front + str(count) + path_end\n",
    "    browser.find_element_by_xpath(path).click()\n",
    "    sub = browser.find_element_by_xpath('//*[@id=\"tabs-1\"]/table/tbody/tr[9]/td').text\n",
    "    subs.append(sub)\n",
    "    browser.back()\n",
    "    count += 1\n",
    "    sleep(0.5)\n",
    "    \n",
    "subs"
   ]
  },
  {
   "cell_type": "code",
   "execution_count": null,
   "id": "825a1dff",
   "metadata": {},
   "outputs": [],
   "source": [
    "import pandas as pd"
   ]
  },
  {
   "cell_type": "code",
   "execution_count": null,
   "id": "397938e2",
   "metadata": {},
   "outputs": [],
   "source": [
    "df = pd.DataFrame()"
   ]
  },
  {
   "cell_type": "code",
   "execution_count": null,
   "id": "908d644a",
   "metadata": {},
   "outputs": [],
   "source": [
    "df['単位数'] = units2\n",
    "df['時間割コード'] = codes\n",
    "df['授業科目名'] = subs\n",
    "\n",
    "df"
   ]
  },
  {
   "cell_type": "code",
   "execution_count": null,
   "id": "7b982b93",
   "metadata": {},
   "outputs": [],
   "source": [
    "df.to_csv('学部・学科共通科目.csv',index=False)"
   ]
  },
  {
   "cell_type": "code",
   "execution_count": null,
   "id": "1a4cec4f",
   "metadata": {},
   "outputs": [],
   "source": [
    "browser.close()"
   ]
  }
 ],
 "metadata": {
  "kernelspec": {
   "display_name": "Python 3 (ipykernel)",
   "language": "python",
   "name": "python3"
  },
  "language_info": {
   "codemirror_mode": {
    "name": "ipython",
    "version": 3
   },
   "file_extension": ".py",
   "mimetype": "text/x-python",
   "name": "python",
   "nbconvert_exporter": "python",
   "pygments_lexer": "ipython3",
   "version": "3.8.12"
  }
 },
 "nbformat": 4,
 "nbformat_minor": 5
}
